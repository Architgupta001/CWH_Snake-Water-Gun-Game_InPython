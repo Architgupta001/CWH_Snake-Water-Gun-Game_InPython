{
 "cells": [
  {
   "cell_type": "code",
   "execution_count": 34,
   "metadata": {},
   "outputs": [
    {
     "name": "stdout",
     "output_type": "stream",
     "text": [
      "Player's Turn\n"
     ]
    },
    {
     "name": "stdin",
     "output_type": "stream",
     "text": [
      "Enter your choice [snake or water or gun] snake\n"
     ]
    },
    {
     "name": "stdout",
     "output_type": "stream",
     "text": [
      "Player choose snake\n",
      "\n",
      "Computer's Turn\n",
      "Computer choose water\n",
      "\n",
      "Congratulations, You won the Game\n"
     ]
    }
   ],
   "source": [
    "# This is a small text based game known as snake, water and gun game. It is similar to rock,paper and scissors.\n",
    "\n",
    "#importing random module to use random function\n",
    "import random\n",
    "\n",
    "#Game win fuction, it helps to decide who won the game.\n",
    "def gameWin(player,comp):\n",
    "    if comp == player:\n",
    "        return None\n",
    "    elif comp == 'snake':\n",
    "        if player == 'water':\n",
    "            return False\n",
    "        elif player == 'gun':\n",
    "            return True\n",
    "    elif comp == 'water':\n",
    "        if player == 'gun':\n",
    "            return False\n",
    "        elif player == 'snake':\n",
    "            return True\n",
    "    elif comp == 'gun':\n",
    "        if player == 'snake':\n",
    "            return False\n",
    "        elif player == 'water':\n",
    "            return True\n",
    "        \n",
    "#it will ask the Player to play its move\n",
    "print(\"Player's Turn\")\n",
    "\n",
    "#It will accept Player's choice\n",
    "player = input(\"Enter your choice [snake or water or gun]\")\n",
    "\n",
    "#It will print player's choice\n",
    "print(f\"Player choose {player}\\n\")\n",
    "\n",
    "#it will ask the computer to play its move\n",
    "print(\"Computer's Turn\")\n",
    "\n",
    "#It will take computer's input randomly\n",
    "randomNumber = random.randint(1,3)\n",
    "\n",
    "#It will decide what computer choose \n",
    "if randomNumber == 1:\n",
    "    comp = 'snake'\n",
    "elif randomNumber == 2:\n",
    "    comp = 'water'\n",
    "elif randomNumber == 3:\n",
    "    comp = 'gun'\n",
    "\n",
    "#It will print computer's choice\n",
    "print(f\"Computer choose {comp}\\n\")\n",
    "\n",
    "#it calls the function to do its work\n",
    "a = gameWin(player,comp)\n",
    "\n",
    "#These conditions will declare the result who won the game by taking help of game win function.\n",
    "if a == None:\n",
    "    print(\"Game is Tie, Keep Trying...\")\n",
    "elif a:\n",
    "    print(\"Congratulations, You won the Game\")\n",
    "else:\n",
    "    print(\"Computer won, Better Luck Next time\")\n",
    "\n"
   ]
  }
 ],
 "metadata": {
  "kernelspec": {
   "display_name": "Python 3",
   "language": "python",
   "name": "python3"
  },
  "language_info": {
   "codemirror_mode": {
    "name": "ipython",
    "version": 3
   },
   "file_extension": ".py",
   "mimetype": "text/x-python",
   "name": "python",
   "nbconvert_exporter": "python",
   "pygments_lexer": "ipython3",
   "version": "3.8.5"
  }
 },
 "nbformat": 4,
 "nbformat_minor": 4
}
